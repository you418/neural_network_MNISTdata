{
 "cells": [
  {
   "cell_type": "code",
   "execution_count": 12,
   "metadata": {},
   "outputs": [],
   "source": [
    "import torch \n",
    "import torch.nn.functional as F\n",
    "from torch import nn\n",
    "from torch import optim"
   ]
  },
  {
   "cell_type": "code",
   "execution_count": 17,
   "metadata": {},
   "outputs": [],
   "source": [
    "from torchvision import datasets, transforms\n",
    "transforms = transforms.Compose([transforms.ToTensor(), transforms.Normalize((0.5, 0.5, 0.5),(0.5, 0.5, 0.5))])\n",
    "\n",
    "trainset = datasets.FashionMNIST('~/.pytorch/F_MNIST_data/', download = True, train = True, transform = transforms)\n",
    "trainloader = torch.utils.data.DataLoader(trainset, batch_size = 64, shuffle = True)\n",
    "testset =  datasets.FashionMNIST('~/.pytorch/F_MNIST_data/', download = True, train = False, transform = transforms)\n",
    "trainloader = torch.utils.data.DataLoader(trainset, batch_size = 64, shuffle = True)"
   ]
  },
  {
   "cell_type": "code",
   "execution_count": 21,
   "metadata": {},
   "outputs": [],
   "source": [
    "class Classifier(nn.Module):\n",
    "    \n",
    "    def __init__(self):\n",
    "        super().__init__()\n",
    "        self.fc1 = nn.Linear(784, 256)\n",
    "        self.fc2 = nn.Linear(256, 128)\n",
    "        self.fc3 = nn.Linear(128, 64)\n",
    "        self.fc4 = nn.Linear(64, 10)\n",
    "        \n",
    "        self.dropout = nn.Dropout(p=0.2)\n",
    "    \n",
    "    def forward(self, x):\n",
    "        #flatten input tensor\n",
    "        x = x.view(x.shape[0], -1)\n",
    "        \n",
    "        #apply dropout\n",
    "        x = self.dropout(F.relu(self.fc1(x)))\n",
    "        x = self.dropout(F.relu(self.fc2(x)))\n",
    "        x = self.dropout(F.relu(self.fc3(x)))\n",
    "        \n",
    "        #apply log_softmax to output and no dropout here\n",
    "        x = F.log_softmax(self.fc4(x), dim=1)\n",
    "        \n",
    "        return x     "
   ]
  },
  {
   "cell_type": "code",
   "execution_count": 23,
   "metadata": {},
   "outputs": [
    {
     "name": "stdout",
     "output_type": "stream",
     "text": [
      "Epoch : 1/30.. Training Loss :  0.602.. Testing Accuracy :  0.835..\n",
      "Epoch : 2/30.. Training Loss :  0.482.. Testing Accuracy :  0.835..\n",
      "Epoch : 3/30.. Training Loss :  0.449.. Testing Accuracy :  0.852..\n",
      "Epoch : 4/30.. Training Loss :  0.433.. Testing Accuracy :  0.866..\n",
      "Epoch : 5/30.. Training Loss :  0.418.. Testing Accuracy :  0.852..\n",
      "Epoch : 6/30.. Training Loss :  0.410.. Testing Accuracy :  0.866..\n",
      "Epoch : 7/30.. Training Loss :  0.406.. Testing Accuracy :  0.842..\n",
      "Epoch : 8/30.. Training Loss :  0.405.. Testing Accuracy :  0.859..\n",
      "Epoch : 9/30.. Training Loss :  0.392.. Testing Accuracy :  0.859..\n",
      "Epoch : 10/30.. Training Loss :  0.396.. Testing Accuracy :  0.867..\n",
      "Epoch : 11/30.. Training Loss :  0.386.. Testing Accuracy :  0.864..\n",
      "Epoch : 12/30.. Training Loss :  0.387.. Testing Accuracy :  0.868..\n",
      "Epoch : 13/30.. Training Loss :  0.376.. Testing Accuracy :  0.868..\n",
      "Epoch : 14/30.. Training Loss :  0.378.. Testing Accuracy :  0.871..\n",
      "Epoch : 15/30.. Training Loss :  0.375.. Testing Accuracy :  0.873..\n",
      "Epoch : 16/30.. Training Loss :  0.373.. Testing Accuracy :  0.874..\n",
      "Epoch : 17/30.. Training Loss :  0.368.. Testing Accuracy :  0.874..\n",
      "Epoch : 18/30.. Training Loss :  0.361.. Testing Accuracy :  0.875..\n",
      "Epoch : 19/30.. Training Loss :  0.360.. Testing Accuracy :  0.877..\n",
      "Epoch : 20/30.. Training Loss :  0.363.. Testing Accuracy :  0.882..\n",
      "Epoch : 21/30.. Training Loss :  0.357.. Testing Accuracy :  0.874..\n",
      "Epoch : 22/30.. Training Loss :  0.359.. Testing Accuracy :  0.878..\n",
      "Epoch : 23/30.. Training Loss :  0.356.. Testing Accuracy :  0.879..\n",
      "Epoch : 24/30.. Training Loss :  0.350.. Testing Accuracy :  0.884..\n",
      "Epoch : 25/30.. Training Loss :  0.357.. Testing Accuracy :  0.880..\n",
      "Epoch : 26/30.. Training Loss :  0.344.. Testing Accuracy :  0.882..\n",
      "Epoch : 27/30.. Training Loss :  0.352.. Testing Accuracy :  0.879..\n",
      "Epoch : 28/30.. Training Loss :  0.342.. Testing Accuracy :  0.882..\n",
      "Epoch : 29/30.. Training Loss :  0.347.. Testing Accuracy :  0.882..\n",
      "Epoch : 30/30.. Training Loss :  0.349.. Testing Accuracy :  0.885..\n"
     ]
    }
   ],
   "source": [
    "model = Classifier()\n",
    "criterion = nn.NLLLoss()\n",
    "optimizer = optim.Adam(model.parameters(), lr = 0.003)\n",
    "\n",
    "epochs = 30\n",
    "steps = 0\n",
    "\n",
    "train_losses, test_losses = [], []\n",
    "for e in range(epochs):\n",
    "    running_loss = 0\n",
    "    for images, labels in trainloader:\n",
    "        optimizer.zero_grad()\n",
    "        \n",
    "        log_ps = model.forward(images)\n",
    "        loss = criterion(log_ps, labels)\n",
    "        loss.backward()\n",
    "        optimizer.step()\n",
    "        \n",
    "        running_loss += loss.item()\n",
    "    \n",
    "    else:\n",
    "        test_loss = 0\n",
    "        accuracy = 0\n",
    "        \n",
    "        with torch.no_grad():\n",
    "            for images, labels in trainloader:\n",
    "                log_ps = model.forward(images)\n",
    "                test_loss += criterion(log_ps, labels)\n",
    "                \n",
    "                ps = torch.exp(log_ps)\n",
    "                top_p, top_class = ps.topk(1, dim = 1)\n",
    "                equals = top_class == labels.view(*top_class.shape)\n",
    "                accuracy += torch.mean(equals.type(torch.FloatTensor))\n",
    "                \n",
    "        train_losses.append(running_loss/len(trainloader))\n",
    "        test_losses.append(test_loss/len(trainloader))\n",
    "\n",
    "        print ('Epoch : {}/{}..'.format(e+1, epochs),\n",
    "               'Training Loss : {: .3f}..'.format(running_loss/len(trainloader)),\n",
    "               'Testing Accuracy : {: .3f}..'.format(accuracy/len(trainloader)))"
   ]
  },
  {
   "cell_type": "code",
   "execution_count": null,
   "metadata": {},
   "outputs": [],
   "source": []
  },
  {
   "cell_type": "code",
   "execution_count": null,
   "metadata": {},
   "outputs": [],
   "source": []
  }
 ],
 "metadata": {
  "kernelspec": {
   "display_name": "Python 3",
   "language": "python",
   "name": "python3"
  },
  "language_info": {
   "codemirror_mode": {
    "name": "ipython",
    "version": 3
   },
   "file_extension": ".py",
   "mimetype": "text/x-python",
   "name": "python",
   "nbconvert_exporter": "python",
   "pygments_lexer": "ipython3",
   "version": "3.6.5"
  }
 },
 "nbformat": 4,
 "nbformat_minor": 2
}
